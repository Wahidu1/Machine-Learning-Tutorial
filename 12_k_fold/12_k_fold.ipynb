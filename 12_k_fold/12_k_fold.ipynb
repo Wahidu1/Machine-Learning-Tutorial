{
 "cells": [
  {
   "cell_type": "code",
   "execution_count": 37,
   "id": "6e9d36b5",
   "metadata": {},
   "outputs": [],
   "source": [
    "from sklearn.linear_model import LogisticRegression\n",
    "from sklearn.svm import SVC\n",
    "from sklearn.tree import DecisionTreeClassifier\n",
    "from sklearn.ensemble import RandomForestClassifier\n",
    "import numpy as np\n",
    "from sklearn.datasets import load_digits\n",
    "digits = load_digits()"
   ]
  },
  {
   "cell_type": "code",
   "execution_count": 38,
   "id": "7ece5d2d",
   "metadata": {},
   "outputs": [],
   "source": [
    "from sklearn.model_selection import train_test_split\n",
    "X_train, X_test, y_train, y_test = train_test_split(digits.data, digits.target, test_size=0.3)"
   ]
  },
  {
   "cell_type": "code",
   "execution_count": 39,
   "id": "a36a47b8",
   "metadata": {},
   "outputs": [],
   "source": [
    "lr = LogisticRegression(max_iter=1000)\n",
    "svm = SVC()\n",
    "dt = DecisionTreeClassifier()\n",
    "rf = RandomForestClassifier()"
   ]
  },
  {
   "cell_type": "code",
   "execution_count": 40,
   "id": "a5d778bd",
   "metadata": {},
   "outputs": [
    {
     "data": {
      "text/plain": [
       "KFold(n_splits=5, random_state=None, shuffle=False)"
      ]
     },
     "execution_count": 40,
     "metadata": {},
     "output_type": "execute_result"
    }
   ],
   "source": [
    "from sklearn.model_selection import KFold\n",
    "kf = KFold(n_splits=5)\n",
    "kf"
   ]
  },
  {
   "cell_type": "code",
   "execution_count": 41,
   "id": "4030a3dd",
   "metadata": {},
   "outputs": [],
   "source": [
    "for train_index, test_index in kf.split(digits.data):\n",
    "    X_train, X_test = digits.data[train_index], digits.data[test_index]\n",
    "    y_train, y_test = digits.target[train_index], digits.target[test_index]"
   ]
  },
  {
   "cell_type": "code",
   "execution_count": 42,
   "id": "02762cf3",
   "metadata": {},
   "outputs": [],
   "source": [
    "def get_score(model, X_train, y_train, X_test, y_test):\n",
    "    model.fit(X_train, y_train)\n",
    "    return model.score(X_test, y_test)"
   ]
  },
  {
   "cell_type": "code",
   "execution_count": 43,
   "id": "cf0f3c6a",
   "metadata": {},
   "outputs": [
    {
     "name": "stdout",
     "output_type": "stream",
     "text": [
      "Logistic Regression Score: 0.9080779944289693\n",
      "SVM Score: 0.9415041782729805\n",
      "Decision Tree Score: 0.8105849582172702\n",
      "Random Forest Score: 0.9275766016713092\n"
     ]
    }
   ],
   "source": [
    "print(\"Logistic Regression Score:\", get_score(lr, X_train, y_train, X_test, y_test))\n",
    "print(\"SVM Score:\", get_score(svm, X_train, y_train, X_test, y_test))\n",
    "print(\"Decision Tree Score:\", get_score(dt, X_train, y_train, X_test, y_test))\n",
    "print(\"Random Forest Score:\", get_score(rf, X_train, y_train, X_test, y_test))\n"
   ]
  },
  {
   "cell_type": "code",
   "execution_count": 44,
   "id": "fc9eb7b0",
   "metadata": {},
   "outputs": [
    {
     "data": {
      "text/plain": [
       "StratifiedKFold(n_splits=5, random_state=None, shuffle=False)"
      ]
     },
     "execution_count": 44,
     "metadata": {},
     "output_type": "execute_result"
    }
   ],
   "source": [
    "from sklearn.model_selection import StratifiedKFold\n",
    "skf = StratifiedKFold(n_splits=5)\n",
    "skf"
   ]
  },
  {
   "cell_type": "code",
   "execution_count": 45,
   "id": "07b81415",
   "metadata": {},
   "outputs": [],
   "source": [
    "score_lr = []\n",
    "score_svm = []\n",
    "score_dt = []\n",
    "score_rf = []\n",
    "for train_index, test_index in skf.split(digits.data, digits.target):\n",
    "    X_train, X_test = digits.data[train_index], digits.data[test_index]\n",
    "    y_train, y_test = digits.target[train_index], digits.target[test_index]\n",
    "    score_lr.append(get_score(lr, X_train, y_train, X_test, y_test))\n",
    "    score_svm.append(get_score(svm, X_train, y_train, X_test, y_test))\n",
    "    score_dt.append(get_score(dt, X_train, y_train, X_test, y_test))\n",
    "    score_rf.append(get_score(rf, X_train, y_train, X_test, y_test))"
   ]
  },
  {
   "cell_type": "code",
   "execution_count": 46,
   "id": "c191a4fa",
   "metadata": {},
   "outputs": [
    {
     "name": "stdout",
     "output_type": "stream",
     "text": [
      "Logistic Regression Average Score: [0.9222222222222223, 0.8694444444444445, 0.9415041782729805, 0.9415041782729805, 0.8969359331476323]\n",
      "SVM Average Score: [0.9611111111111111, 0.9444444444444444, 0.9832869080779945, 0.9888579387186629, 0.9387186629526463]\n",
      "Decision Tree Average Score: [0.7722222222222223, 0.7166666666666667, 0.7966573816155988, 0.8384401114206128, 0.8050139275766016]\n",
      "Random Forest Average Score: [0.925, 0.9083333333333333, 0.9610027855153204, 0.9610027855153204, 0.9164345403899722]\n"
     ]
    }
   ],
   "source": [
    "print(\"Logistic Regression Average Score:\", score_lr)\n",
    "print(\"SVM Average Score:\", score_svm)\n",
    "print(\"Decision Tree Average Score:\", score_dt)\n",
    "print(\"Random Forest Average Score:\", score_rf)"
   ]
  },
  {
   "cell_type": "code",
   "execution_count": 48,
   "id": "0d496a83",
   "metadata": {},
   "outputs": [],
   "source": [
    "from sklearn.model_selection import cross_val_score\n"
   ]
  },
  {
   "cell_type": "code",
   "execution_count": 49,
   "id": "54cd2acd",
   "metadata": {},
   "outputs": [
    {
     "data": {
      "text/plain": [
       "array([0.92222222, 0.86944444, 0.94150418, 0.94150418, 0.89693593])"
      ]
     },
     "execution_count": 49,
     "metadata": {},
     "output_type": "execute_result"
    }
   ],
   "source": [
    "cross_val_score(lr, digits.data, digits.target)"
   ]
  },
  {
   "cell_type": "code",
   "execution_count": null,
   "id": "215be4d6",
   "metadata": {},
   "outputs": [
    {
     "data": {
      "text/plain": [
       "array([0.93611111, 0.91111111, 0.95543175, 0.95821727, 0.91922006])"
      ]
     },
     "execution_count": 50,
     "metadata": {},
     "output_type": "execute_result"
    }
   ],
   "source": [
    "cross_val_score(svm, digits.data, digits.target)\n"
   ]
  },
  {
   "cell_type": "code",
   "execution_count": null,
   "id": "2d2ddaf0",
   "metadata": {},
   "outputs": [],
   "source": [
    "cross_val_score(dt, digits.data, digits.target)\n"
   ]
  },
  {
   "cell_type": "code",
   "execution_count": null,
   "id": "e7e48385",
   "metadata": {},
   "outputs": [],
   "source": [
    "cross_val_score(rf, digits.data, digits.target)"
   ]
  }
 ],
 "metadata": {
  "kernelspec": {
   "display_name": "venv",
   "language": "python",
   "name": "python3"
  },
  "language_info": {
   "codemirror_mode": {
    "name": "ipython",
    "version": 3
   },
   "file_extension": ".py",
   "mimetype": "text/x-python",
   "name": "python",
   "nbconvert_exporter": "python",
   "pygments_lexer": "ipython3",
   "version": "3.11.0"
  }
 },
 "nbformat": 4,
 "nbformat_minor": 5
}
