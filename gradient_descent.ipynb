{
 "cells": [
  {
   "cell_type": "code",
   "execution_count": 6,
   "id": "368dd5d5-b05f-4ecc-aa39-4ebb6a30a60d",
   "metadata": {},
   "outputs": [
    {
     "name": "stdout",
     "output_type": "stream",
     "text": [
      "m 0.44, b 0.12, cost 44.0, iteration 0\n",
      "m 0.776, b 0.2112, cost 25.660800000000002, iteration 1\n",
      "m 1.032608, b 0.280416, cost 14.97348864, iteration 2\n",
      "m 1.22860928, b 0.3328512, cost 8.745320060928002, iteration 3\n",
      "m 1.3783441663999998, b 0.3724776192, cost 5.115720032339559, iteration 4\n",
      "m 1.4927597926399998, b 0.402327416832, cost 3.000437997576207, iteration 5\n",
      "m 1.5802129932492799, b 0.42471528093696004, cost 1.7676264038806253, iteration 6\n",
      "m 1.6470832178782207, b 0.44140819572326406, cost 1.0490757722304753, iteration 7\n",
      "m 1.6982404182016162, b 0.45375503873610556, cost 0.6302118411657639, iteration 8\n",
      "m 1.7374022238730944, b 0.4627855128692865, cost 0.38599134808939556, iteration 9\n"
     ]
    }
   ],
   "source": [
    "import numpy as np\n",
    "\n",
    "def gradient_descent(x, y):\n",
    "    m_curr = b_curr = 0\n",
    "    iterations = 10\n",
    "    n = len(x)\n",
    "    learning_rate = 0.01\n",
    "\n",
    "    for i in range(iterations):\n",
    "        y_predicted = m_curr * x + b_curr\n",
    "        cost = (1 / n) * sum([val**2 for val in (y - y_predicted)])\n",
    "        dm = -(2 / n) * sum(x * (y - y_predicted))\n",
    "        db = -(2 / n) * sum(y - y_predicted)\n",
    "        m_curr = m_curr - learning_rate * dm\n",
    "        b_curr = b_curr - learning_rate * db\n",
    "\n",
    "        print(\"m {}, b {}, cost {}, iteration {}\".format(m_curr, b_curr, cost, i))\n",
    "x = np.array([1, 2, 3, 4, 5])\n",
    "y = np.array([2, 4, 6, 8, 10])\n",
    "gradient_descent(x, y)"
   ]
  }
 ],
 "metadata": {
  "kernelspec": {
   "display_name": "venv",
   "language": "python",
   "name": "python3"
  },
  "language_info": {
   "codemirror_mode": {
    "name": "ipython",
    "version": 3
   },
   "file_extension": ".py",
   "mimetype": "text/x-python",
   "name": "python",
   "nbconvert_exporter": "python",
   "pygments_lexer": "ipython3",
   "version": "3.11.0"
  }
 },
 "nbformat": 4,
 "nbformat_minor": 5
}
